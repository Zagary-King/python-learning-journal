{
 "cells": [
  {
   "cell_type": "code",
   "execution_count": 40,
   "id": "8d628ae9-7da3-4c6d-ba67-3970e9a7205c",
   "metadata": {},
   "outputs": [
    {
     "name": "stdin",
     "output_type": "stream",
     "text": [
      "Enter right-most binary digit:  0\n"
     ]
    }
   ],
   "source": [
    "#allow the user to enter each digit from right to left\n",
    "binary0 = input(\"Enter right-most binary digit: \")\n",
    "decimal0 = float(binary0) * (2 ** 0)"
   ]
  },
  {
   "cell_type": "code",
   "execution_count": 41,
   "id": "3acedce0-7d69-4076-99aa-f0e91d146d00",
   "metadata": {},
   "outputs": [
    {
     "name": "stdin",
     "output_type": "stream",
     "text": [
      "Enter your next digit (right-to-left):  0\n"
     ]
    }
   ],
   "source": [
    "binary1 = input(\"Enter your next digit (right-to-left): \")\n",
    "decimal1 = float(binary1) * (2 ** 1)"
   ]
  },
  {
   "cell_type": "code",
   "execution_count": 42,
   "id": "78a1cd34-28a3-4cbf-8f5b-b5384a249879",
   "metadata": {},
   "outputs": [
    {
     "name": "stdin",
     "output_type": "stream",
     "text": [
      "Enter your next digit:  0\n"
     ]
    }
   ],
   "source": [
    "binary2 = input(\"Enter your next digit: \")\n",
    "decimal2 = float(binary2) * (2 ** 2)"
   ]
  },
  {
   "cell_type": "code",
   "execution_count": 43,
   "id": "66d39641-15c4-4061-aa6a-560920a33f95",
   "metadata": {},
   "outputs": [
    {
     "name": "stdin",
     "output_type": "stream",
     "text": [
      "Enter your next digit:  1\n"
     ]
    }
   ],
   "source": [
    "binary3 = input(\"Enter your next digit: \")\n",
    "decimal3 = float(binary3) * (2 ** 3)"
   ]
  },
  {
   "cell_type": "code",
   "execution_count": 44,
   "id": "0e1bd667-3964-47de-9303-f7dc72308a35",
   "metadata": {},
   "outputs": [
    {
     "name": "stdin",
     "output_type": "stream",
     "text": [
      "Enter your next digit:  0\n"
     ]
    }
   ],
   "source": [
    "binary4 = input(\"Enter your next digit: \")\n",
    "decimal4 = float(binary4) * (2 ** 4)"
   ]
  },
  {
   "cell_type": "code",
   "execution_count": 45,
   "id": "7f3434eb-07e1-4673-81ca-c658ad0c924b",
   "metadata": {},
   "outputs": [
    {
     "name": "stdin",
     "output_type": "stream",
     "text": [
      "Enter your next digit:  1\n"
     ]
    }
   ],
   "source": [
    "binary5 = input(\"Enter your next digit: \")\n",
    "decimal5 = float(binary5) * (2 ** 5)"
   ]
  },
  {
   "cell_type": "code",
   "execution_count": 46,
   "id": "4095882a-7327-42f2-871b-2f1894da6a05",
   "metadata": {},
   "outputs": [
    {
     "name": "stdin",
     "output_type": "stream",
     "text": [
      "Enter your next digit:  1\n"
     ]
    }
   ],
   "source": [
    "binary6 = input(\"Enter your next digit: \")\n",
    "decimal6 = float(binary6) * (2 ** 6)"
   ]
  },
  {
   "cell_type": "code",
   "execution_count": 47,
   "id": "8d71e51d-e02a-44d3-a8ca-0282cc63782f",
   "metadata": {},
   "outputs": [
    {
     "name": "stdin",
     "output_type": "stream",
     "text": [
      "Enter your next digit:  0\n"
     ]
    }
   ],
   "source": [
    "binary7 = input(\"Enter your next digit: \")\n",
    "decimal7 = float(binary7) * (2 ** 7)"
   ]
  },
  {
   "cell_type": "code",
   "execution_count": 48,
   "id": "d26cdbc7-f02c-4f16-a037-1fd26c8d488e",
   "metadata": {},
   "outputs": [
    {
     "name": "stdin",
     "output_type": "stream",
     "text": [
      "Enter your next digit:  1\n"
     ]
    }
   ],
   "source": [
    "binary8 = input(\"Enter your next digit: \")\n",
    "decimal8 = float(binary8) * (2 ** 8)"
   ]
  },
  {
   "cell_type": "code",
   "execution_count": 65,
   "id": "7adb4eea-1e5c-4c00-94ff-2591594bf14b",
   "metadata": {},
   "outputs": [
    {
     "name": "stdout",
     "output_type": "stream",
     "text": [
      "The final translation is:  360.0\n"
     ]
    }
   ],
   "source": [
    "decimalTranslation = decimal0 + decimal1 + decimal2 + decimal3 + decimal4 + decimal5 + decimal6 + decimal7 + decimal8\n",
    "print(\"The final translation is: \", decimalTranslation )"
   ]
  },
  {
   "cell_type": "code",
   "execution_count": null,
   "id": "444d6bcf-8dca-48e4-9b60-3905d0cac1ca",
   "metadata": {},
   "outputs": [],
   "source": []
  }
 ],
 "metadata": {
  "kernelspec": {
   "display_name": "Python 3 (ipykernel)",
   "language": "python",
   "name": "python3"
  },
  "language_info": {
   "codemirror_mode": {
    "name": "ipython",
    "version": 3
   },
   "file_extension": ".py",
   "mimetype": "text/x-python",
   "name": "python",
   "nbconvert_exporter": "python",
   "pygments_lexer": "ipython3",
   "version": "3.12.4"
  }
 },
 "nbformat": 4,
 "nbformat_minor": 5
}
