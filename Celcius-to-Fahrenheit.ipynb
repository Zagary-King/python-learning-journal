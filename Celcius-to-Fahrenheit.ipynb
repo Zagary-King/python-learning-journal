{
 "cells": [
  {
   "cell_type": "code",
   "execution_count": 2,
   "id": "bbbfc20d-a5fe-4361-aec7-af3d12d4772c",
   "metadata": {},
   "outputs": [
    {
     "name": "stdin",
     "output_type": "stream",
     "text": [
      "Enter degrees in Celsius to be converted:  2\n"
     ]
    },
    {
     "name": "stdout",
     "output_type": "stream",
     "text": [
      "35.6\n"
     ]
    }
   ],
   "source": [
    "celsius = input(\"Enter degrees in Celsius to be converted: \")\n",
    "#perform first part of conversion\n",
    "step1 = (float(celsius) * 1.8)\n",
    "#and the second part\n",
    "fahrenheit = step1 + 32\n",
    "print(fahrenheit)"
   ]
  },
  {
   "cell_type": "code",
   "execution_count": null,
   "id": "0c3cf2a3-3b6e-416c-bce4-091ec01c1839",
   "metadata": {},
   "outputs": [],
   "source": []
  }
 ],
 "metadata": {
  "kernelspec": {
   "display_name": "Python 3 (ipykernel)",
   "language": "python",
   "name": "python3"
  },
  "language_info": {
   "codemirror_mode": {
    "name": "ipython",
    "version": 3
   },
   "file_extension": ".py",
   "mimetype": "text/x-python",
   "name": "python",
   "nbconvert_exporter": "python",
   "pygments_lexer": "ipython3",
   "version": "3.12.4"
  }
 },
 "nbformat": 4,
 "nbformat_minor": 5
}
