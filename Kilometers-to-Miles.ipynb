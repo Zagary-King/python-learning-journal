{
 "cells": [
  {
   "cell_type": "code",
   "execution_count": 66,
   "id": "deb6bfd7-b674-4f3d-8c0a-830b1d70f1ac",
   "metadata": {},
   "outputs": [
    {
     "name": "stdin",
     "output_type": "stream",
     "text": [
      "Enter Kilometers to convert:  4\n"
     ]
    }
   ],
   "source": [
    "converter = 0.62137\n",
    "val = input(\"Enter Kilometers to convert: \")"
   ]
  },
  {
   "cell_type": "code",
   "execution_count": 68,
   "id": "bf1e2e5e-392f-4813-aaac-e2452b051b35",
   "metadata": {},
   "outputs": [
    {
     "name": "stdout",
     "output_type": "stream",
     "text": [
      "2.48548\n"
     ]
    }
   ],
   "source": [
    "miles = float(val) * converter\n",
    "print(miles)"
   ]
  }
 ],
 "metadata": {
  "kernelspec": {
   "display_name": "Python 3 (ipykernel)",
   "language": "python",
   "name": "python3"
  },
  "language_info": {
   "codemirror_mode": {
    "name": "ipython",
    "version": 3
   },
   "file_extension": ".py",
   "mimetype": "text/x-python",
   "name": "python",
   "nbconvert_exporter": "python",
   "pygments_lexer": "ipython3",
   "version": "3.12.4"
  }
 },
 "nbformat": 4,
 "nbformat_minor": 5
}
